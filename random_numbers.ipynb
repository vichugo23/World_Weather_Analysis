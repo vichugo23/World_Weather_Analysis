{
 "cells": [
  {
   "cell_type": "code",
   "execution_count": 1,
   "id": "51459176-2ea8-4a96-93ca-badf558d4ee7",
   "metadata": {},
   "outputs": [],
   "source": [
    "# Import the random module.\n",
    "import random"
   ]
  },
  {
   "cell_type": "code",
   "execution_count": 3,
   "id": "f0afa464-f819-4089-a9e5-4e0c12915fb6",
   "metadata": {},
   "outputs": [
    {
     "data": {
      "text/plain": [
       "40"
      ]
     },
     "execution_count": 3,
     "metadata": {},
     "output_type": "execute_result"
    }
   ],
   "source": [
    "random.randint(-90,90)"
   ]
  },
  {
   "cell_type": "code",
   "execution_count": 4,
   "id": "170ea8e3-7df5-4b96-be5e-3ef7dbde0514",
   "metadata": {},
   "outputs": [
    {
     "data": {
      "text/plain": [
       "0.6879671900140207"
      ]
     },
     "execution_count": 4,
     "metadata": {},
     "output_type": "execute_result"
    }
   ],
   "source": [
    "random.random()"
   ]
  },
  {
   "cell_type": "code",
   "execution_count": 5,
   "id": "f46ff8ec-9915-4e3c-a90f-9f6aea4786ad",
   "metadata": {},
   "outputs": [
    {
     "data": {
      "text/plain": [
       "-20.71778661237394"
      ]
     },
     "execution_count": 5,
     "metadata": {},
     "output_type": "execute_result"
    }
   ],
   "source": [
    "random_number= random.randint(-90,89) + random.random()\n",
    "random_number"
   ]
  },
  {
   "cell_type": "code",
   "execution_count": 8,
   "id": "75edfb00-d0be-4afb-adec-fdcf5ec18b1e",
   "metadata": {},
   "outputs": [
    {
     "data": {
      "text/plain": [
       "[40.77332294538597,\n",
       " -17.51455575111336,\n",
       " -80.78017373260583,\n",
       " -5.316090681165763,\n",
       " -41.79288229771694,\n",
       " -17.190352595351126,\n",
       " -76.87222431554437,\n",
       " 21.30509931282565,\n",
       " 53.05902509275458,\n",
       " 0.5446148267957682]"
      ]
     },
     "execution_count": 8,
     "metadata": {},
     "output_type": "execute_result"
    }
   ],
   "source": [
    "x = 1\n",
    "latitudes = []\n",
    "while x < 11:\n",
    "    random_lat = random.randint(-90, 89) + random.random()\n",
    "    latitudes.append(random_lat)\n",
    "    x += 1\n",
    "latitudes"
   ]
  },
  {
   "cell_type": "code",
   "execution_count": 9,
   "id": "1dbf9a46-694f-44bb-bddb-55ae1bdfcc15",
   "metadata": {},
   "outputs": [],
   "source": [
    "#In the code block above, we:\n",
    "\n",
    "#Assign the variable x to 1.\n",
    "#Initialize an empty list, latitudes.\n",
    "#We create a while loop where we generate a random latitude and add it to the list.\n",
    "#After the random latitude is added to the list we add one to the variable \"x\".\n",
    "#The while loop condition is checked again and will continue to run as long as x is less than 11."
   ]
  },
  {
   "cell_type": "code",
   "execution_count": 12,
   "id": "19dea22a-b2d4-4460-9e06-907f6438dc8f",
   "metadata": {},
   "outputs": [
    {
     "data": {
      "text/plain": [
       "21"
      ]
     },
     "execution_count": 12,
     "metadata": {},
     "output_type": "execute_result"
    }
   ],
   "source": [
    "random.randrange(-90,90, step=3)"
   ]
  },
  {
   "cell_type": "code",
   "execution_count": 13,
   "id": "e40ade94-1bd7-4249-9726-4307a8af19d5",
   "metadata": {},
   "outputs": [
    {
     "data": {
      "text/plain": [
       "-73.87202795740289"
      ]
     },
     "execution_count": 13,
     "metadata": {},
     "output_type": "execute_result"
    }
   ],
   "source": [
    "random.uniform(-90,90)"
   ]
  },
  {
   "cell_type": "code",
   "execution_count": 14,
   "id": "18bb5f81-fb07-454e-a5f3-d0033af5377f",
   "metadata": {},
   "outputs": [],
   "source": [
    "# Import the NumPy module.\n",
    "import numpy as np"
   ]
  },
  {
   "cell_type": "code",
   "execution_count": 15,
   "id": "cc6e9289-5fa0-43d9-9885-625a5270b178",
   "metadata": {},
   "outputs": [
    {
     "data": {
      "text/plain": [
       "70.73924376784402"
      ]
     },
     "execution_count": 15,
     "metadata": {},
     "output_type": "execute_result"
    }
   ],
   "source": [
    "np.random.uniform(-90.000, 90.000)"
   ]
  },
  {
   "cell_type": "code",
   "execution_count": 17,
   "id": "8a81625d-575f-431b-b0c9-40d9896ee6ab",
   "metadata": {},
   "outputs": [],
   "source": [
    "#When we use the NumPy module with the random.uniform() function, the parenthetical parameters contain a lower boundary (low value) \n",
    "#and an upper boundary (high value) that are floating-point decimal numbers.\n",
    "#Another option is to write the parameters as np.random.uniform(low=-90, high=90)."
   ]
  },
  {
   "cell_type": "code",
   "execution_count": 18,
   "id": "d3644281-dd05-4e70-9090-81f5e8e8688f",
   "metadata": {},
   "outputs": [
    {
     "data": {
      "text/plain": [
       "array([-48.7149532 ,   0.70931748,  54.99659902,  62.68810163,\n",
       "        -0.11564445,  -9.51650459, -16.42519527,  -7.51796793,\n",
       "        30.3872432 ,  58.3998386 ,  46.85479816, -10.1835395 ,\n",
       "        79.26965604, -36.04141291, -71.36637813, -66.6917648 ,\n",
       "       -86.02051292,  68.94807037, -30.14176768,  83.70206906,\n",
       "        18.95840984, -17.88094051,  18.91507804,  50.48386236,\n",
       "        -1.09424962,  65.92922845,  88.75207821, -32.66180009,\n",
       "       -15.15348708,  61.51459543,  60.78042238, -56.35448016,\n",
       "        44.91544797,  62.29671197,  12.59502735, -29.8800564 ,\n",
       "       -62.04255215, -35.38163286,  -7.22607876,  35.90542607,\n",
       "       -62.84672992,  -4.4950983 ,  34.28392749,  -2.07082471,\n",
       "        61.01040175, -39.96935972,  70.48725578,  32.07981138,\n",
       "        20.27200926,   6.20713755])"
      ]
     },
     "execution_count": 18,
     "metadata": {},
     "output_type": "execute_result"
    }
   ],
   "source": [
    "#To generate more than one floating-point decimal number between -90 and 90, we can add the size parameter when we use the NumPy module and set that equal to any whole number.\n",
    "np.random.uniform(-90.000, 90.000, size=50)"
   ]
  },
  {
   "cell_type": "code",
   "execution_count": 19,
   "id": "5e197908-883d-4728-a572-3c15b26f6a18",
   "metadata": {},
   "outputs": [],
   "source": [
    "#Now we are getting somewhere—all we need to do is increase the parameter size to 1,500.\n",
    "\n",
    "#Is this method faster than creating a while loop like we did before? Let's test this for a size of 1,500.\n",
    "\n",
    "#To test how long a piece of code or function takes to run, we can import the \"timeit\" module and use the %timeit magic command when we run our code or call the function.\n",
    "\n",
    "# Import timeit.\n",
    "import timeit\n",
    "\n"
   ]
  },
  {
   "cell_type": "code",
   "execution_count": 20,
   "id": "173f09f5-aaab-4756-8f3a-14e696d0b1b8",
   "metadata": {},
   "outputs": [
    {
     "name": "stdout",
     "output_type": "stream",
     "text": [
      "12.1 µs ± 55.4 ns per loop (mean ± std. dev. of 7 runs, 100,000 loops each)\n"
     ]
    }
   ],
   "source": [
    "%timeit np.random.uniform(-90.000, 90.000, size=1500)"
   ]
  },
  {
   "cell_type": "code",
   "execution_count": 22,
   "id": "38b9c2d0-757e-43d1-9ba3-3e5a1abe139b",
   "metadata": {},
   "outputs": [
    {
     "name": "stdout",
     "output_type": "stream",
     "text": [
      "1.11 ms ± 9.2 µs per loop (mean ± std. dev. of 7 runs, 1,000 loops each)\n"
     ]
    }
   ],
   "source": [
    "#The output is the amount of time it took to run this code, which is an average of 12.1 microseconds. The amount of time it takes to run this code depends on the processing speed and the RAM of your computer.\n",
    "\n",
    "#Now, let's run the while loop as a function. Copy the following code in a new cell and run the cell.\n",
    "\n",
    "def latitudes(size):\n",
    "    latitudes = []\n",
    "    x = 0\n",
    "    while x < (size):\n",
    "        random_lat = random.randint(-90, 90) + random.random()\n",
    "        latitudes.append(random_lat)\n",
    "        x += 1\n",
    "    return latitudes\n",
    "# Call the function with 1500.\n",
    "%timeit latitudes(1500)\n",
    "\n"
   ]
  },
  {
   "cell_type": "code",
   "execution_count": 23,
   "id": "6ca19355-1c48-44b8-a726-6045da155591",
   "metadata": {},
   "outputs": [],
   "source": [
    "#Using the np.random.uniform(-90.000, 90.000, size=1500) is 100 times faster than using the function, and our code is one line, whereas the function uses eight lines!"
   ]
  },
  {
   "cell_type": "code",
   "execution_count": 30,
   "id": "322e054a-7b23-4066-9bd3-17fb111cc491",
   "metadata": {},
   "outputs": [
    {
     "name": "stdout",
     "output_type": "stream",
     "text": [
      "2.63 ms ± 19.3 µs per loop (mean ± std. dev. of 7 runs, 100 loops each)\n"
     ]
    }
   ],
   "source": [
    "# Skill Drill\n",
    "#Refactor the code for the while loop with the %timeit magic command and write a for loop that will generate the 1,500 latitudes.\n",
    "\n",
    "def latitudes(size):\n",
    "    latitudes = []\n",
    "    x=0\n",
    "    while x < (size):\n",
    "        random_lat = np.random.uniform(-90.,90.)\n",
    "        latitudes.append(random_lat)\n",
    "        x += 1\n",
    "    return latitudes\n",
    "%timeit latitudes(1500)\n",
    "## my refactor code came out to be slower. need to come back and work on this "
   ]
  },
  {
   "cell_type": "code",
   "execution_count": null,
   "id": "42e5d249-37bb-4333-955b-629a91b6d494",
   "metadata": {},
   "outputs": [],
   "source": []
  }
 ],
 "metadata": {
  "kernelspec": {
   "display_name": "Python 3 (ipykernel)",
   "language": "python",
   "name": "python3"
  },
  "language_info": {
   "codemirror_mode": {
    "name": "ipython",
    "version": 3
   },
   "file_extension": ".py",
   "mimetype": "text/x-python",
   "name": "python",
   "nbconvert_exporter": "python",
   "pygments_lexer": "ipython3",
   "version": "3.9.12"
  }
 },
 "nbformat": 4,
 "nbformat_minor": 5
}
