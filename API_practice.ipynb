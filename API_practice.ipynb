{
 "cells": [
  {
   "cell_type": "code",
   "execution_count": 1,
   "id": "1231c657-f765-4a8e-a501-a127550e236c",
   "metadata": {},
   "outputs": [],
   "source": [
    "# Create a practice set of random latitude and longitude combinations.\n",
    "lats = [25.12903645, 25.92017388, 26.62509167, -59.98969384, 37.30571269]\n",
    "lngs = [-67.59741259, 11.09532135, 74.84233102, -76.89176677, -61.13376282]\n",
    "lat_lngs = zip(lats, lngs)"
   ]
  },
  {
   "cell_type": "code",
   "execution_count": 2,
   "id": "9b2cfe60-9af4-4968-984d-810fa3ec8d44",
   "metadata": {},
   "outputs": [],
   "source": [
    "#Next, let's unpack our lat_lngs zip object into a list. \n",
    "#This way, we only need to create a set of random latitudes and longitudes once. \n",
    "#In a new cell in the WeatherPy.ipynb file, add the following code and run the cell."
   ]
  },
  {
   "cell_type": "code",
   "execution_count": 7,
   "id": "433fd4d6-c681-43a2-a284-3e79b3f929b8",
   "metadata": {},
   "outputs": [],
   "source": [
    "# Use the citipy module to determine city based on latitude and longitude.\n",
    "from citipy import citipy\n"
   ]
  },
  {
   "cell_type": "code",
   "execution_count": 16,
   "id": "0aab62c3-d91e-45d7-9a71-b408192bce10",
   "metadata": {},
   "outputs": [],
   "source": [
    "#Next, use the five pairs of latitudes and longitudes we used from our zip practice to get a city and country code from the citipy module.\n",
    "\n",
    "#In a new cell, create a for loop that will do the following:\n",
    "\n",
    "#Iterate through the coordinates' unzipped tuple.\n",
    "#Use citipy.nearest_city() and inside the parentheses of nearest_city(), add the latitude and longitude in this format: coordinate[0], coordinate[1].\n",
    "#To print the city name, chain the city_name to the nearest_city() function.\n",
    "#To print the country name, chain the country_code to the nearest_city() function."
   ]
  },
  {
   "cell_type": "code",
   "execution_count": 18,
   "id": "de34fc49-cc6b-4fa9-9538-4cd89941cb89",
   "metadata": {},
   "outputs": [
    {
     "name": "stdout",
     "output_type": "stream",
     "text": [
      "cockburn town tc\n",
      "gat ly\n",
      "parvatsar in\n",
      "punta arenas cl\n",
      "saint george bm\n"
     ]
    }
   ],
   "source": [
    "# Use the print() function to display the latitude and longitude combinations.\n",
    "for coordinate in lat_lngs:\n",
    "    print(citipy.nearest_city(coordinate[0], coordinate[1]).city_name,\n",
    "          citipy.nearest_city(coordinate[0], coordinate[1]).country_code)"
   ]
  },
  {
   "cell_type": "code",
   "execution_count": null,
   "id": "dc48cdad-a3b8-424d-aad4-bb27f1a182de",
   "metadata": {},
   "outputs": [],
   "source": []
  }
 ],
 "metadata": {
  "kernelspec": {
   "display_name": "Python 3 (ipykernel)",
   "language": "python",
   "name": "python3"
  },
  "language_info": {
   "codemirror_mode": {
    "name": "ipython",
    "version": 3
   },
   "file_extension": ".py",
   "mimetype": "text/x-python",
   "name": "python",
   "nbconvert_exporter": "python",
   "pygments_lexer": "ipython3",
   "version": "3.9.12"
  }
 },
 "nbformat": 4,
 "nbformat_minor": 5
}
